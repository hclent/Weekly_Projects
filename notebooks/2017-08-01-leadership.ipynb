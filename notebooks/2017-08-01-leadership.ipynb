{
 "cells": [
  {
   "cell_type": "markdown",
   "metadata": {},
   "source": [
    "## Notebook name: \n",
    "\n",
    "2017-08-01-leadership\n",
    "\n"
   ]
  },
  {
   "cell_type": "markdown",
   "metadata": {},
   "source": [
    "## Attendance:\n",
    "\n",
    "* **Andreina Castillo** - @AndreinaCastillo : evolutionary biology, plasmodium, malaria, python \n",
    "* **Blake Joyce** - @bjoyce3 : biology, ecology, python, docker, cyber infrastructure \n",
    "* **Tyson Swetnam ** - @tyson-swetnam : GIS, geography, python, cyber infrastructure \n",
    "* **Julian Pistorius** - @julianpistorius : software engineering, python\n",
    "* **Jennifer Nichols ** - @jennytnichols : library science, \n",
    "* **Artin Majdi** - ??? : python, data science, big data \n",
    "* **Jon Gill** - @therealjtgill : machine learning, engineering, python, keras \n",
    "* **Heather Lent** - @hclent : natural language processing, machine learning, python, flask, scala \n"
   ]
  },
  {
   "cell_type": "markdown",
   "metadata": {},
   "source": [
    "## Summary:\n",
    "\n",
    "Discussed:\n",
    "\n",
    "* **Research Bazaar plans for next year**\n",
    "* **Better documentation of meetings**"
   ]
  },
  {
   "cell_type": "markdown",
   "metadata": {},
   "source": [
    "### Research Bazaar plans for next year\n",
    " \n",
    " * Start mobilizing at end of September\n",
    " * \n"
   ]
  },
  {
   "cell_type": "markdown",
   "metadata": {},
   "source": [
    "### Better documentation of meetings \n",
    "\n",
    "* Making a template to document each meeting"
   ]
  },
  {
   "cell_type": "markdown",
   "metadata": {},
   "source": [
    "## Notes:\n",
    "\n",
    "* Greek food!\n"
   ]
  }
 ],
 "metadata": {
  "kernelspec": {
   "display_name": "Python 3",
   "language": "python",
   "name": "python3"
  },
  "language_info": {
   "codemirror_mode": {
    "name": "ipython",
    "version": 3
   },
   "file_extension": ".py",
   "mimetype": "text/x-python",
   "name": "python",
   "nbconvert_exporter": "python",
   "pygments_lexer": "ipython3",
   "version": "3.5.1"
  }
 },
 "nbformat": 4,
 "nbformat_minor": 0
}
